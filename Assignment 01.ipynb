{
 "cells": [
  {
   "cell_type": "code",
   "execution_count": 2,
   "id": "08497a0c",
   "metadata": {},
   "outputs": [
    {
     "name": "stdout",
     "output_type": "stream",
     "text": [
      "Twinkle, Twinke, little star,\n",
      "       How I wonder what you are!\n",
      "               Up above the world so high,\n",
      "               Like a diamond in the sky.\n",
      "Twinkle, twinkle, little star,\n",
      "        How I wonder waht you are\n"
     ]
    }
   ],
   "source": [
    "print(\"Twinkle, Twinke, little star,\")\n",
    "print(\"       How I wonder what you are!\")\n",
    "print(\"               Up above the world so high,\")\n",
    "print(\"               Like a diamond in the sky.\")\n",
    "print(\"Twinkle, twinkle, little star,\")\n",
    "print(\"        How I wonder waht you are\")"
   ]
  },
  {
   "cell_type": "code",
   "execution_count": 3,
   "id": "f5c0d316",
   "metadata": {},
   "outputs": [
    {
     "name": "stdout",
     "output_type": "stream",
     "text": [
      "Python version\n",
      "3.9.7 (default, Sep 16 2021, 16:59:28) [MSC v.1916 64 bit (AMD64)]\n",
      "version info\n",
      "sys.version_info(major=3, minor=9, micro=7, releaselevel='final', serial=0)\n"
     ]
    }
   ],
   "source": [
    "import sys\n",
    "print(\"Python version\")\n",
    "print (sys.version)\n",
    "print(\"version info\")\n",
    "print(sys.version_info)\n"
   ]
  },
  {
   "cell_type": "code",
   "execution_count": 4,
   "id": "85d78a7d",
   "metadata": {},
   "outputs": [
    {
     "name": "stdout",
     "output_type": "stream",
     "text": [
      "Current date and time :\n",
      "2022-01-01 11:18:17\n"
     ]
    }
   ],
   "source": [
    "import datetime\n",
    "now = datetime.datetime.now()\n",
    "print(\"Current date and time :\")\n",
    "print(now.strftime(\"%Y-%m-%d %H:%M:%S\"))"
   ]
  },
  {
   "cell_type": "code",
   "execution_count": 11,
   "id": "84bf077e",
   "metadata": {},
   "outputs": [
    {
     "name": "stdout",
     "output_type": "stream",
     "text": [
      "Input the radius of circle :6.9\n",
      "the area of circle with radius6.9 is : 149.57122623741006\n"
     ]
    }
   ],
   "source": [
    "from math import pi\n",
    "r= float(input(\"Input the radius of circle :\"))\n",
    "print(\"the area of circle with radius\" + str(r)+ \" is : \" + str(pi* r**2))"
   ]
  },
  {
   "cell_type": "code",
   "execution_count": 14,
   "id": "e5ad6eba",
   "metadata": {},
   "outputs": [
    {
     "name": "stdout",
     "output_type": "stream",
     "text": [
      "enter your first name :ali\n",
      "enter your last name :ahmed\n",
      "Hello ahmed ali\n"
     ]
    }
   ],
   "source": [
    "fname= input(\"enter your first name :\")\n",
    "lname= input(\"enter your last name :\")\n",
    "print(\"Hello\"+\" \" + lname + \" \" + fname)"
   ]
  },
  {
   "cell_type": "code",
   "execution_count": 18,
   "id": "a6264a32",
   "metadata": {},
   "outputs": [
    {
     "name": "stdout",
     "output_type": "stream",
     "text": [
      "enter your first number :8\n",
      "enter your second number7\n",
      "the addition of first and second number is : 15\n"
     ]
    }
   ],
   "source": [
    "A = int(input(\"enter your first number :\"))\n",
    "B= int(input(\"enter your second number\"))\n",
    "sum = A+B\n",
    "print(\"the addition of first and second number is :\", sum  )"
   ]
  },
  {
   "cell_type": "code",
   "execution_count": null,
   "id": "c31779e3",
   "metadata": {},
   "outputs": [],
   "source": []
  }
 ],
 "metadata": {
  "kernelspec": {
   "display_name": "Python 3 (ipykernel)",
   "language": "python",
   "name": "python3"
  },
  "language_info": {
   "codemirror_mode": {
    "name": "ipython",
    "version": 3
   },
   "file_extension": ".py",
   "mimetype": "text/x-python",
   "name": "python",
   "nbconvert_exporter": "python",
   "pygments_lexer": "ipython3",
   "version": "3.9.7"
  }
 },
 "nbformat": 4,
 "nbformat_minor": 5
}
